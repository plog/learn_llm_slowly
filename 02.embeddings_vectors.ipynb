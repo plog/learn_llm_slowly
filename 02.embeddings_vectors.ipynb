{
 "cells": [
  {
   "cell_type": "code",
   "execution_count": null,
   "id": "c5969f5c-d7f2-48e1-8f4a-d28fa07a2088",
   "metadata": {},
   "outputs": [],
   "source": [
    "# https://python.langchain.com/docs/tutorials/retrievers/\n",
    "import os\n",
    "from langchain_core.documents import Document\n",
    "from langchain_community.document_loaders import PyPDFLoader\n",
    "from langchain_text_splitters import RecursiveCharacterTextSplitter\n",
    "from langchain_ollama.embeddings import OllamaEmbeddings\n",
    "from langchain_qdrant import QdrantVectorStore\n",
    "from qdrant_client import QdrantClient\n",
    "from qdrant_client.http import models"
   ]
  },
  {
   "cell_type": "code",
   "execution_count": null,
   "id": "da4221d1-063d-4ed0-bd16-8130a56e96d2",
   "metadata": {},
   "outputs": [],
   "source": [
    "OLLAMA_SERVER = os.getenv(\"OLLAMA_SERVER\")"
   ]
  },
  {
   "cell_type": "code",
   "execution_count": null,
   "id": "4cf9c0a4-7bb8-49af-8fe4-a16eb4d3174e",
   "metadata": {},
   "outputs": [],
   "source": [
    "# 1. We load the document\n",
    "# -----------------------\n",
    "file_path = \"./docs/test.pdf\"\n",
    "loader    = PyPDFLoader(file_path)\n",
    "docs      = loader.load()\n",
    "print(len(docs))"
   ]
  },
  {
   "cell_type": "code",
   "execution_count": null,
   "id": "baf92d3c-9568-4a59-92dd-96590af56b09",
   "metadata": {},
   "outputs": [],
   "source": [
    "print(f\"{docs[0].page_content[:100]}\\n\")\n",
    "docs[0].metadata"
   ]
  },
  {
   "cell_type": "code",
   "execution_count": null,
   "id": "e227afb8-8bd0-4db1-bd35-f8bc69e94ebf",
   "metadata": {},
   "outputs": [],
   "source": [
    "# We split this document un chunks\n",
    "# --------------------------------\n",
    "text_splitter = RecursiveCharacterTextSplitter(chunk_size=500, chunk_overlap=10, add_start_index=True)\n",
    "all_splits    = text_splitter.split_documents(docs)\n",
    "len(all_splits)"
   ]
  },
  {
   "cell_type": "code",
   "execution_count": null,
   "id": "8277d903-5525-4b93-9f42-0bbadd738425",
   "metadata": {},
   "outputs": [],
   "source": [
    "# We select the embedder and create vectors\n",
    "# ------------------------------------------\n",
    "embeddings = OllamaEmbeddings(base_url=OLLAMA_SERVER, model=\"mxbai-embed-large\")\n",
    "vectors    = [embeddings.embed_query(text.page_content) for text in all_splits]"
   ]
  },
  {
   "cell_type": "code",
   "execution_count": null,
   "id": "a2051dd1-b106-45dd-8c75-c0866ab030bb",
   "metadata": {},
   "outputs": [],
   "source": [
    "# Instantiate the QDrant client and recreate a collection\n",
    "#--------------------------------------------------------\n",
    "qdrant_client     = QdrantClient(host='lawboxai_qdrant')\n",
    "qdrant_collection = 'example'\n",
    "qdrant_client.delete_collection(collection_name=qdrant_collection)"
   ]
  },
  {
   "cell_type": "code",
   "execution_count": null,
   "id": "eded3383-5814-4d5e-b183-6a03ff36a0d9",
   "metadata": {},
   "outputs": [],
   "source": [
    "qdrant_client.create_collection(\n",
    "   collection_name=qdrant_collection,\n",
    "   vectors_config=models.VectorParams(size=len(vectors[0]), distance=models.Distance.COSINE),\n",
    ")\n",
    "vector_store = QdrantVectorStore(\n",
    "    client=qdrant_client,\n",
    "    collection_name=qdrant_collection,\n",
    "    embedding=embeddings\n",
    ")\n",
    "vector_store.add_documents(all_splits)\n",
    "query = \"Les défauts de payement\""
   ]
  },
  {
   "cell_type": "code",
   "execution_count": null,
   "id": "6382fbb8-7fb9-44b4-8c4b-d2d1776a922d",
   "metadata": {
    "scrolled": true
   },
   "outputs": [],
   "source": [
    "# Similarity_search: Returns the top documents based solely on vector similarity\n",
    "docs  = vector_store.similarity_search(query, k=10,)\n",
    "for doc in docs:\n",
    "    print(50*'-')\n",
    "    print(doc.page_content)"
   ]
  },
  {
   "cell_type": "code",
   "execution_count": null,
   "id": "e3e592b4-14f6-4ec0-882a-882e209e3f3a",
   "metadata": {},
   "outputs": [],
   "source": [
    "# Similar to similarity_search, but also returns relevance scores\n",
    "docs  = await vector_store.asimilarity_search_with_relevance_scores(query,k=5)   #.similarity_search(query, k=10,)\n",
    "for doc in docs:\n",
    "    print(50*'-',doc[1])\n",
    "    print(doc[0].page_content)"
   ]
  },
  {
   "cell_type": "code",
   "execution_count": null,
   "id": "9f9310b1-c856-40fc-8ce7-652f2a88a6d0",
   "metadata": {},
   "outputs": [],
   "source": [
    "# The LangChain way, using Retriever\n",
    "retriever = vector_store.as_retriever()\n",
    "query = \"Les défauts de payement\"\n",
    "retrieved_docs = retriever.invoke(query,k=7)\n",
    "\n",
    "# Afficher les résultats\n",
    "for doc in retrieved_docs:\n",
    "    print(50*'-')\n",
    "    print(doc.page_content)"
   ]
  },
  {
   "cell_type": "code",
   "execution_count": null,
   "id": "ef0a883b-d74d-4700-a243-dba4c98333d7",
   "metadata": {},
   "outputs": [],
   "source": []
  }
 ],
 "metadata": {
  "kernelspec": {
   "display_name": "Python 3 (ipykernel)",
   "language": "python",
   "name": "python3"
  },
  "language_info": {
   "codemirror_mode": {
    "name": "ipython",
    "version": 3
   },
   "file_extension": ".py",
   "mimetype": "text/x-python",
   "name": "python",
   "nbconvert_exporter": "python",
   "pygments_lexer": "ipython3",
   "version": "3.12.8"
  }
 },
 "nbformat": 4,
 "nbformat_minor": 5
}
