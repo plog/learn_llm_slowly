{
 "cells": [
  {
   "cell_type": "markdown",
   "id": "17f00af6",
   "metadata": {},
   "source": [
    "# 2. Vectors and embedding\n",
    "\n",
    "The notebook is a step-by-step guide to processing documents and creating vector representations (embeddings) of their content. Here's a simplified explanation of what it does:\n",
    "\n",
    "1) **Load the Document**: It starts by loading a document (e.g., a PDF file) into the program.\n",
    "2) **Split the Document**: The document is then split into smaller chunks to make it easier to process.\n",
    "3) **Create Embeddings**: For each chunk, the notebook uses a model to create a vector representation (embedding). This is like converting the text into a series of numbers that capture its meaning.\n",
    "4) **Store the Embeddings**: These embeddings are stored in a special database called a vector store. This allows for efficient searching and retrieval based on the content of the documents.\n",
    "5) **Query the Vector Store**: Finally, the notebook demonstrates how to query this vector store to find relevant document chunks based on a search query.\n",
    "\n",
    "Overall, the notebook shows how to transform text documents into a format that can be easily searched and analyzed using machine learning techniques.\n",
    "\n",
    "# Qdrant\n",
    "Qdrant is a high-performance vector database used to store and search vector representations (embeddings) of data efficiently. It is scalable and integrates well with machine learning and AI applications, making it suitable for production environments."
   ]
  },
  {
   "cell_type": "code",
   "execution_count": 1,
   "id": "c5969f5c-d7f2-48e1-8f4a-d28fa07a2088",
   "metadata": {},
   "outputs": [],
   "source": [
    "# https://python.langchain.com/docs/tutorials/retrievers/\n",
    "import os\n",
    "from langchain_core.documents import Document\n",
    "from langchain_community.document_loaders import PyPDFLoader\n",
    "from langchain_text_splitters import RecursiveCharacterTextSplitter\n",
    "from langchain_ollama.embeddings import OllamaEmbeddings\n",
    "from langchain_qdrant import QdrantVectorStore\n",
    "from qdrant_client import QdrantClient\n",
    "from qdrant_client.http import models"
   ]
  },
  {
   "cell_type": "code",
   "execution_count": 2,
   "id": "da4221d1-063d-4ed0-bd16-8130a56e96d2",
   "metadata": {},
   "outputs": [],
   "source": [
    "OLLAMA_SERVER = os.getenv(\"OLLAMA_SERVER\")"
   ]
  },
  {
   "cell_type": "code",
   "execution_count": 8,
   "id": "4cf9c0a4-7bb8-49af-8fe4-a16eb4d3174e",
   "metadata": {},
   "outputs": [
    {
     "name": "stdout",
     "output_type": "stream",
     "text": [
      "31\n"
     ]
    }
   ],
   "source": [
    "# 1. We load the document\n",
    "# -----------------------\n",
    "file_path = \"./docs/test.pdf\"\n",
    "loader    = PyPDFLoader(file_path)\n",
    "docs      = loader.load()\n",
    "print(len(docs))"
   ]
  },
  {
   "cell_type": "code",
   "execution_count": 9,
   "id": "baf92d3c-9568-4a59-92dd-96590af56b09",
   "metadata": {},
   "outputs": [
    {
     "name": "stdout",
     "output_type": "stream",
     "text": [
      "a wretch as I felt pride. Justine, poor unhappy Justine, was as innocent\n",
      "as I, and she suffered the \n",
      "\n"
     ]
    },
    {
     "data": {
      "text/plain": [
       "{'source': './docs/test.pdf', 'page': 0}"
      ]
     },
     "execution_count": 9,
     "metadata": {},
     "output_type": "execute_result"
    }
   ],
   "source": [
    "print(f\"{docs[0].page_content[:100]}\\n\")\n",
    "docs[0].metadata"
   ]
  },
  {
   "cell_type": "code",
   "execution_count": 20,
   "id": "e227afb8-8bd0-4db1-bd35-f8bc69e94ebf",
   "metadata": {},
   "outputs": [
    {
     "data": {
      "text/plain": [
       "10"
      ]
     },
     "execution_count": 20,
     "metadata": {},
     "output_type": "execute_result"
    }
   ],
   "source": [
    "# We split this document un chunks\n",
    "# --------------------------------\n",
    "text_splitter = RecursiveCharacterTextSplitter(\n",
    "    chunk_size=1000, \n",
    "    chunk_overlap=10, \n",
    "    add_start_index=True\n",
    ")\n",
    "all_splits    = text_splitter.split_documents(docs)\n",
    "len(all_splits)"
   ]
  },
  {
   "cell_type": "code",
   "execution_count": 21,
   "id": "8277d903-5525-4b93-9f42-0bbadd738425",
   "metadata": {},
   "outputs": [],
   "source": [
    "# We select the embedder and create vectors\n",
    "# ------------------------------------------\n",
    "embeddings = OllamaEmbeddings(\n",
    "    base_url=OLLAMA_SERVER, \n",
    "    model=\"mxbai-embed-large\"\n",
    ")\n",
    "vectors    = [embeddings.embed_query(text.page_content) for text in all_splits]"
   ]
  },
  {
   "cell_type": "code",
   "execution_count": 22,
   "id": "a2051dd1-b106-45dd-8c75-c0866ab030bb",
   "metadata": {},
   "outputs": [
    {
     "data": {
      "text/plain": [
       "True"
      ]
     },
     "execution_count": 22,
     "metadata": {},
     "output_type": "execute_result"
    }
   ],
   "source": [
    "# Instantiate the QDrant client and recreate a collection\n",
    "#--------------------------------------------------------\n",
    "qdrant_client     = QdrantClient(host='lawboxai_qdrant')\n",
    "qdrant_collection = 'example'\n",
    "qdrant_client.delete_collection(collection_name=qdrant_collection)"
   ]
  },
  {
   "cell_type": "code",
   "execution_count": 23,
   "id": "eded3383-5814-4d5e-b183-6a03ff36a0d9",
   "metadata": {},
   "outputs": [
    {
     "data": {
      "text/plain": [
       "['606babc67d0e47ac90a4eb6a383ff998',\n",
       " '4bd435e79f1f471aaf531d49c5f61248',\n",
       " '0fb5730d7cb547858a5a4ee203531269',\n",
       " '556829a3dc324ce0aed6325c9c3cb59c',\n",
       " '879deefe986f42a6b2f2b582ae91f2e5',\n",
       " '6b5fd21546974ca1818310a7a21d8deb',\n",
       " 'e67b1c0c0dc546beb9d2b2c910f7f2ee',\n",
       " '528f6b042b2d499883c8a27c257de852',\n",
       " 'e8b0a5b233f24e99990a48f46a35fd4b',\n",
       " 'ad49507c092244cfb56a8a232e139c13']"
      ]
     },
     "execution_count": 23,
     "metadata": {},
     "output_type": "execute_result"
    }
   ],
   "source": [
    "qdrant_client.create_collection(\n",
    "   collection_name=qdrant_collection,\n",
    "   vectors_config=models.VectorParams(\n",
    "       size=len(vectors[0]), \n",
    "       distance=models.Distance.COSINE\n",
    "    ),\n",
    ")\n",
    "vector_store = QdrantVectorStore(\n",
    "    client=qdrant_client,\n",
    "    collection_name=qdrant_collection,\n",
    "    embedding=embeddings\n",
    ")\n",
    "vector_store.add_documents(all_splits)"
   ]
  },
  {
   "cell_type": "code",
   "execution_count": 27,
   "id": "88664e26",
   "metadata": {},
   "outputs": [],
   "source": [
    "query = \"Am looking for Margaret\""
   ]
  },
  {
   "cell_type": "code",
   "execution_count": 28,
   "id": "6382fbb8-7fb9-44b4-8c4b-d2d1776a922d",
   "metadata": {
    "scrolled": true
   },
   "outputs": [
    {
     "name": "stdout",
     "output_type": "stream",
     "text": [
      "--------------------------------------------------\n",
      "have persuaded to be my companions look towards me for aid, but I have\n",
      "none to bestow. There is something terribly appalling in our\n",
      "situation, yet my courage and hopes do not desert me. Yet it is\n",
      "terrible to reflect that the lives of all these men are endangered\n",
      "through me. If we are lost, my mad schemes are the cause.\n",
      "And what, Margaret, will be the state of your mind? You will not hear of \n",
      "my\n",
      "destruction, and you will anxiously await my return. Years will pass, \n",
      "and\n",
      "--------------------------------------------------\n",
      "trust him not. His soul is as hellish as his form, full of treachery\n",
      "and fiend-like malice. Hear him not; call on the names of William,\n",
      "Justine, Clerval, Elizabeth, my father, and of the wretched Victor, and\n",
      "thrust your sword into his heart. I will hover near and direct the\n",
      "steel aright.\n",
      "Walton, _in continuation._\n",
      "August 26th, 17—.\n",
      "You have read this strange and terrific story, Margaret; and do you not\n",
      "feel your blood congeal with horror, like that which even now curdles\n",
      "--------------------------------------------------\n",
      "attempted again to speak but was unable; he pressed my hand feebly, and\n",
      "his eyes closed for ever, while the irradiation of a gentle smile passed\n",
      "away from his lips.\n",
      "Margaret, what comment can I make on the untimely extinction of this\n",
      "glorious spirit? What can I say that will enable you to understand the\n",
      "depth of my sorrow? All that I should express would be inadequate and\n",
      "feeble. My tears flow; my mind is overshadowed by a cloud of\n",
      "--------------------------------------------------\n",
      "despondent. I neither spoke nor looked at anyone, but sat motionless,\n",
      "bewildered by the multitude of miseries that overcame me.\n",
      "Elizabeth alone had the power to draw me from these fits; her gentle \n",
      "voice\n",
      "would soothe me when transported by passion and inspire me with human\n",
      "feelings when sunk in torpor. She wept with me and for me. When reason\n",
      "returned, she would remonstrate and endeavour to inspire me with\n",
      "resignation. Ah! It is well for the unfortunate to be resigned, but for \n",
      "the\n",
      "--------------------------------------------------\n",
      "Explanation! You may possibly say, What can Elizabeth have to explain? \n",
      "If\n",
      "you really say this, my questions are answered and all my doubts \n",
      "satisfied.\n",
      "But you are distant from me, and it is possible that you may dread and \n",
      "yet\n",
      "be pleased with this explanation; and in a probability of this being the\n",
      "case, I dare not any longer postpone writing what, during your absence, \n",
      "I\n",
      "have often wished to express to you but have never had the courage to \n",
      "begin.\n",
      "--------------------------------------------------\n",
      "destiny, she was melancholy, and a presentiment of evil pervaded her;\n",
      "and perhaps also she thought of the dreadful secret which I had\n",
      "promised to reveal to her on the following day. My father was in the\n",
      "meantime overjoyed, and, in the bustle of preparation, only recognised \n",
      "in\n",
      "the melancholy of his niece the diffidence of a bride.\n",
      "After the ceremony was performed a large party assembled at my\n",
      "father’s, but it was agreed that Elizabeth and I should commence our\n",
      "--------------------------------------------------\n",
      "the inheritance of Elizabeth had been restored to her by the Austrian\n",
      "government. A small possession on the shores of Como belonged to her. It\n",
      "--------------------------------------------------\n",
      "authority for the apprehension of the murderer.\n",
      "The magistrate listened to me with attention and kindness. “Be\n",
      "assured, sir,” said he, “no pains or exertions on my part shall\n",
      "be spared to discover the villain.”\n",
      "“I thank you,” replied I; “listen, therefore, to the\n",
      "deposition that I have to make. It is indeed a tale so strange that I\n",
      "should fear you would not credit it were there not something in truth\n",
      "which, however wonderful, forces conviction. The story is too connected \n",
      "to\n",
      "--------------------------------------------------\n",
      "a wretch as I felt pride. Justine, poor unhappy Justine, was as innocent\n",
      "as I, and she suffered the same charge; she died for it; and I am the \n",
      "cause\n",
      "of this—I murdered her. William, Justine, and Henry—they all\n",
      "died by my hands.”\n",
      "My father had often, during my imprisonment, heard me make the same\n",
      "assertion; when I thus accused myself, he sometimes seemed to desire an\n",
      "explanation, and at others he appeared to consider it as the offspring \n",
      "of\n",
      "--------------------------------------------------\n",
      "This address caused a considerable change in the physiognomy of my own\n",
      "auditor. He had heard my story with that half kind of belief that is \n",
      "given\n",
      "to a tale of spirits and supernatural events; but when he was called \n",
      "upon\n",
      "to act officially in consequence, the whole tide of his incredulity\n",
      "returned. He, however, answered mildly, “I would willingly afford you\n",
      "every aid in your pursuit, but the creature of whom you speak appears to\n"
     ]
    }
   ],
   "source": [
    "# Similarity_search: Returns the top documents based solely on vector similarity\n",
    "docs  = vector_store.similarity_search(query, k=10,)\n",
    "for doc in docs:\n",
    "    print(50*'-')\n",
    "    print(doc.page_content)"
   ]
  },
  {
   "cell_type": "code",
   "execution_count": 29,
   "id": "e3e592b4-14f6-4ec0-882a-882e209e3f3a",
   "metadata": {},
   "outputs": [
    {
     "name": "stdout",
     "output_type": "stream",
     "text": [
      "-------------------------------------------------- 0.78439495\n",
      "have persuaded to be my companions look towards me for aid, but I have\n",
      "none to bestow. There is something terribly appalling in our\n",
      "situation, yet my courage and hopes do not desert me. Yet it is\n",
      "terrible to reflect that the lives of all these men are endangered\n",
      "through me. If we are lost, my mad schemes are the cause.\n",
      "And what, Margaret, will be the state of your mind? You will not hear of \n",
      "my\n",
      "destruction, and you will anxiously await my return. Years will pass, \n",
      "and\n",
      "-------------------------------------------------- 0.7714237500000001\n",
      "trust him not. His soul is as hellish as his form, full of treachery\n",
      "and fiend-like malice. Hear him not; call on the names of William,\n",
      "Justine, Clerval, Elizabeth, my father, and of the wretched Victor, and\n",
      "thrust your sword into his heart. I will hover near and direct the\n",
      "steel aright.\n",
      "Walton, _in continuation._\n",
      "August 26th, 17—.\n",
      "You have read this strange and terrific story, Margaret; and do you not\n",
      "feel your blood congeal with horror, like that which even now curdles\n",
      "-------------------------------------------------- 0.7645309499999999\n",
      "attempted again to speak but was unable; he pressed my hand feebly, and\n",
      "his eyes closed for ever, while the irradiation of a gentle smile passed\n",
      "away from his lips.\n",
      "Margaret, what comment can I make on the untimely extinction of this\n",
      "glorious spirit? What can I say that will enable you to understand the\n",
      "depth of my sorrow? All that I should express would be inadequate and\n",
      "feeble. My tears flow; my mind is overshadowed by a cloud of\n",
      "-------------------------------------------------- 0.74669255\n",
      "despondent. I neither spoke nor looked at anyone, but sat motionless,\n",
      "bewildered by the multitude of miseries that overcame me.\n",
      "Elizabeth alone had the power to draw me from these fits; her gentle \n",
      "voice\n",
      "would soothe me when transported by passion and inspire me with human\n",
      "feelings when sunk in torpor. She wept with me and for me. When reason\n",
      "returned, she would remonstrate and endeavour to inspire me with\n",
      "resignation. Ah! It is well for the unfortunate to be resigned, but for \n",
      "the\n",
      "-------------------------------------------------- 0.7413795\n",
      "Explanation! You may possibly say, What can Elizabeth have to explain? \n",
      "If\n",
      "you really say this, my questions are answered and all my doubts \n",
      "satisfied.\n",
      "But you are distant from me, and it is possible that you may dread and \n",
      "yet\n",
      "be pleased with this explanation; and in a probability of this being the\n",
      "case, I dare not any longer postpone writing what, during your absence, \n",
      "I\n",
      "have often wished to express to you but have never had the courage to \n",
      "begin.\n"
     ]
    }
   ],
   "source": [
    "# Similar to similarity_search, but also returns relevance scores\n",
    "docs  = await vector_store.asimilarity_search_with_relevance_scores(query,k=5)   #.similarity_search(query, k=10,)\n",
    "for doc in docs:\n",
    "    print(50*'-',doc[1])\n",
    "    print(doc[0].page_content)"
   ]
  },
  {
   "cell_type": "code",
   "execution_count": 30,
   "id": "9f9310b1-c856-40fc-8ce7-652f2a88a6d0",
   "metadata": {},
   "outputs": [
    {
     "name": "stdout",
     "output_type": "stream",
     "text": [
      "--------------------------------------------------\n",
      "have persuaded to be my companions look towards me for aid, but I have\n",
      "none to bestow. There is something terribly appalling in our\n",
      "situation, yet my courage and hopes do not desert me. Yet it is\n",
      "terrible to reflect that the lives of all these men are endangered\n",
      "through me. If we are lost, my mad schemes are the cause.\n",
      "And what, Margaret, will be the state of your mind? You will not hear of \n",
      "my\n",
      "destruction, and you will anxiously await my return. Years will pass, \n",
      "and\n",
      "--------------------------------------------------\n",
      "trust him not. His soul is as hellish as his form, full of treachery\n",
      "and fiend-like malice. Hear him not; call on the names of William,\n",
      "Justine, Clerval, Elizabeth, my father, and of the wretched Victor, and\n",
      "thrust your sword into his heart. I will hover near and direct the\n",
      "steel aright.\n",
      "Walton, _in continuation._\n",
      "August 26th, 17—.\n",
      "You have read this strange and terrific story, Margaret; and do you not\n",
      "feel your blood congeal with horror, like that which even now curdles\n",
      "--------------------------------------------------\n",
      "attempted again to speak but was unable; he pressed my hand feebly, and\n",
      "his eyes closed for ever, while the irradiation of a gentle smile passed\n",
      "away from his lips.\n",
      "Margaret, what comment can I make on the untimely extinction of this\n",
      "glorious spirit? What can I say that will enable you to understand the\n",
      "depth of my sorrow? All that I should express would be inadequate and\n",
      "feeble. My tears flow; my mind is overshadowed by a cloud of\n",
      "--------------------------------------------------\n",
      "despondent. I neither spoke nor looked at anyone, but sat motionless,\n",
      "bewildered by the multitude of miseries that overcame me.\n",
      "Elizabeth alone had the power to draw me from these fits; her gentle \n",
      "voice\n",
      "would soothe me when transported by passion and inspire me with human\n",
      "feelings when sunk in torpor. She wept with me and for me. When reason\n",
      "returned, she would remonstrate and endeavour to inspire me with\n",
      "resignation. Ah! It is well for the unfortunate to be resigned, but for \n",
      "the\n",
      "--------------------------------------------------\n",
      "Explanation! You may possibly say, What can Elizabeth have to explain? \n",
      "If\n",
      "you really say this, my questions are answered and all my doubts \n",
      "satisfied.\n",
      "But you are distant from me, and it is possible that you may dread and \n",
      "yet\n",
      "be pleased with this explanation; and in a probability of this being the\n",
      "case, I dare not any longer postpone writing what, during your absence, \n",
      "I\n",
      "have often wished to express to you but have never had the courage to \n",
      "begin.\n",
      "--------------------------------------------------\n",
      "destiny, she was melancholy, and a presentiment of evil pervaded her;\n",
      "and perhaps also she thought of the dreadful secret which I had\n",
      "promised to reveal to her on the following day. My father was in the\n",
      "meantime overjoyed, and, in the bustle of preparation, only recognised \n",
      "in\n",
      "the melancholy of his niece the diffidence of a bride.\n",
      "After the ceremony was performed a large party assembled at my\n",
      "father’s, but it was agreed that Elizabeth and I should commence our\n",
      "--------------------------------------------------\n",
      "the inheritance of Elizabeth had been restored to her by the Austrian\n",
      "government. A small possession on the shores of Como belonged to her. It\n"
     ]
    }
   ],
   "source": [
    "# The LangChain way, using Retriever\n",
    "retriever = vector_store.as_retriever()\n",
    "retrieved_docs = retriever.invoke(query,k=7)\n",
    "\n",
    "# Afficher les résultats\n",
    "for doc in retrieved_docs:\n",
    "    print(50*'-')\n",
    "    print(doc.page_content)"
   ]
  },
  {
   "cell_type": "code",
   "execution_count": null,
   "id": "ef0a883b-d74d-4700-a243-dba4c98333d7",
   "metadata": {},
   "outputs": [],
   "source": []
  }
 ],
 "metadata": {
  "kernelspec": {
   "display_name": "Python 3",
   "language": "python",
   "name": "python3"
  },
  "language_info": {
   "codemirror_mode": {
    "name": "ipython",
    "version": 3
   },
   "file_extension": ".py",
   "mimetype": "text/x-python",
   "name": "python",
   "nbconvert_exporter": "python",
   "pygments_lexer": "ipython3",
   "version": "3.12.8"
  }
 },
 "nbformat": 4,
 "nbformat_minor": 5
}
