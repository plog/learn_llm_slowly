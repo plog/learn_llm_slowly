{
 "cells": [
  {
   "cell_type": "markdown",
   "id": "17f00af6",
   "metadata": {},
   "source": [
    "# Vectors and embedding\n",
    "\n",
    "The notebook is a step-by-step guide to processing documents and creating vector representations (embeddings) of their content. Here's a simplified explanation of what it does:\n",
    "\n",
    "1) **Load the Document**: It starts by loading a document (e.g., a PDF file) into the program.\n",
    "2) **Split the Document**: The document is then split into smaller chunks to make it easier to process.\n",
    "3) **Create Embeddings**: For each chunk, the notebook uses a model to create a vector representation (embedding). This is like converting the text into a series of numbers that capture its meaning.\n",
    "4) **Store the Embeddings**: These embeddings are stored in a special database called a vector store. This allows for efficient searching and retrieval based on the content of the documents.\n",
    "5) **Query the Vector Store**: Finally, the notebook demonstrates how to query this vector store to find relevant document chunks based on a search query.\n",
    "\n",
    "Overall, the notebook shows how to transform text documents into a format that can be easily searched and analyzed using machine learning techniques.\n",
    "\n",
    "# Qdrant\n",
    "Qdrant is a high-performance vector database used to store and search vector representations (embeddings) of data efficiently. It is scalable and integrates well with machine learning and AI applications, making it suitable for production environments."
   ]
  },
  {
   "cell_type": "code",
   "execution_count": 6,
   "id": "c5969f5c-d7f2-48e1-8f4a-d28fa07a2088",
   "metadata": {},
   "outputs": [],
   "source": [
    "# https://python.langchain.com/docs/tutorials/retrievers/\n",
    "import os\n",
    "from langchain_core.documents import Document\n",
    "from langchain_community.document_loaders import PyPDFLoader\n",
    "from langchain_text_splitters import RecursiveCharacterTextSplitter\n",
    "from langchain_ollama.embeddings import OllamaEmbeddings\n",
    "from langchain_qdrant import QdrantVectorStore\n",
    "from qdrant_client import QdrantClient\n",
    "from qdrant_client.http import models"
   ]
  },
  {
   "cell_type": "code",
   "execution_count": 7,
   "id": "da4221d1-063d-4ed0-bd16-8130a56e96d2",
   "metadata": {},
   "outputs": [],
   "source": [
    "OLLAMA_SERVER = os.getenv(\"OLLAMA_SERVER\")"
   ]
  },
  {
   "cell_type": "code",
   "execution_count": 8,
   "id": "4cf9c0a4-7bb8-49af-8fe4-a16eb4d3174e",
   "metadata": {},
   "outputs": [
    {
     "name": "stdout",
     "output_type": "stream",
     "text": [
      "7\n"
     ]
    }
   ],
   "source": [
    "# 1. We load the document\n",
    "# -----------------------\n",
    "file_path = \"./docs/test.pdf\"\n",
    "loader    = PyPDFLoader(file_path)\n",
    "docs      = loader.load()\n",
    "print(len(docs))"
   ]
  },
  {
   "cell_type": "code",
   "execution_count": 9,
   "id": "baf92d3c-9568-4a59-92dd-96590af56b09",
   "metadata": {},
   "outputs": [
    {
     "name": "stdout",
     "output_type": "stream",
     "text": [
      "du Code judiciaire.  Si la créance garantie n'est pas encore exigible, le créancier gagiste verse le\n",
      "\n"
     ]
    },
    {
     "data": {
      "text/plain": [
       "{'source': './docs/test.pdf', 'page': 0}"
      ]
     },
     "execution_count": 9,
     "metadata": {},
     "output_type": "execute_result"
    }
   ],
   "source": [
    "print(f\"{docs[0].page_content[:100]}\\n\")\n",
    "docs[0].metadata"
   ]
  },
  {
   "cell_type": "code",
   "execution_count": 10,
   "id": "e227afb8-8bd0-4db1-bd35-f8bc69e94ebf",
   "metadata": {},
   "outputs": [
    {
     "data": {
      "text/plain": [
       "79"
      ]
     },
     "execution_count": 10,
     "metadata": {},
     "output_type": "execute_result"
    }
   ],
   "source": [
    "# We split this document un chunks\n",
    "# --------------------------------\n",
    "text_splitter = RecursiveCharacterTextSplitter(\n",
    "    chunk_size=500, \n",
    "    chunk_overlap=10, \n",
    "    add_start_index=True\n",
    ")\n",
    "all_splits    = text_splitter.split_documents(docs)\n",
    "len(all_splits)"
   ]
  },
  {
   "cell_type": "code",
   "execution_count": 11,
   "id": "8277d903-5525-4b93-9f42-0bbadd738425",
   "metadata": {},
   "outputs": [],
   "source": [
    "# We select the embedder and create vectors\n",
    "# ------------------------------------------\n",
    "embeddings = OllamaEmbeddings(\n",
    "    base_url=OLLAMA_SERVER, \n",
    "    model=\"mxbai-embed-large\"\n",
    ")\n",
    "vectors    = [embeddings.embed_query(text.page_content) for text in all_splits]"
   ]
  },
  {
   "cell_type": "code",
   "execution_count": 12,
   "id": "a2051dd1-b106-45dd-8c75-c0866ab030bb",
   "metadata": {},
   "outputs": [
    {
     "data": {
      "text/plain": [
       "True"
      ]
     },
     "execution_count": 12,
     "metadata": {},
     "output_type": "execute_result"
    }
   ],
   "source": [
    "# Instantiate the QDrant client and recreate a collection\n",
    "#--------------------------------------------------------\n",
    "qdrant_client     = QdrantClient(host='lawboxai_qdrant')\n",
    "qdrant_collection = 'example'\n",
    "qdrant_client.delete_collection(collection_name=qdrant_collection)"
   ]
  },
  {
   "cell_type": "code",
   "execution_count": 13,
   "id": "eded3383-5814-4d5e-b183-6a03ff36a0d9",
   "metadata": {},
   "outputs": [],
   "source": [
    "qdrant_client.create_collection(\n",
    "   collection_name=qdrant_collection,\n",
    "   vectors_config=models.VectorParams(\n",
    "       size=len(vectors[0]), \n",
    "       distance=models.Distance.COSINE\n",
    "    ),\n",
    ")\n",
    "vector_store = QdrantVectorStore(\n",
    "    client=qdrant_client,\n",
    "    collection_name=qdrant_collection,\n",
    "    embedding=embeddings\n",
    ")\n",
    "vector_store.add_documents(all_splits)\n",
    "query = \"Les défauts de payement\""
   ]
  },
  {
   "cell_type": "code",
   "execution_count": 14,
   "id": "6382fbb8-7fb9-44b4-8c4b-d2d1776a922d",
   "metadata": {
    "scrolled": true
   },
   "outputs": [
    {
     "name": "stdout",
     "output_type": "stream",
     "text": [
      "--------------------------------------------------\n",
      "Art. 8.37. Force probante  Le serment ne fait preuve qu'au profit de celui qui l'a déféré et de ses héritiers et ayants cause, ou contre eux.  Le serment déféré par l'un des créanciers solidaires au débiteur ne libère celui-ci que pour la part de cecréancier.  Le serment déféré au débiteur principal libère également les cautions.  Le serment déféré à l'un des débiteurs solidaires profite aux codébiteurs.  Le serment déféré à la caution profite au débiteur principal.  Dans ces deux derniers\n",
      "--------------------------------------------------\n",
      "derniers cas, le serment du codébiteur solidaire ou de la caution ne profite aux autrescodébiteurs ou au débiteur principal que lorsqu'il a été déféré sur la dette principale, et non sur le fait de lasolidarité ou du cautionnement.\n",
      "--------------------------------------------------\n",
      "Art. 69.Ecrit  Des biens meubles vendus avec une clause suspendant le transfert de propriété jusqu'au paiement intégral duprix peuvent être revendiqués lorsque l'acheteur reste en défaut de payer le prix d'achat, pour autant que cetteclause ait été établie par écrit au plus tard au moment de la délivrance des biens.  Si l'acheteur est un consommateur [1 au sens de l'article I.1, 2°, du livre Ier du Code de droit économique]1,l'accord de l'acheteur doit apparaître de l'écrit.  Le droit de\n",
      "--------------------------------------------------\n",
      "ne pourra servir que de commencement de preuve parécrit ; et il faudra même pour cela :  1° qu'il soit constant que toutes les minutes du notaire, de l'année dans laquelle l'acte parait avoir été fait, soientperdues, ou que l'on prouve que la perte de la minute de cet acte a été faite par un accident particulier ;  2° qu'il existe un répertoire régulièrement tenu du notaire, qui constate que l'acte a été fait à la même date.  Lorsque ces deux conditions sont remplies, la preuve du contenu de\n",
      "--------------------------------------------------\n",
      "premières expéditions, auront été délivrées sur la minute de l'acte par le notaire qui l'a reçu, ou parl'un de ses successeurs, ou par les officiers publics ou ministériels qui, en cette qualité, sont dépositaires desminutes, peuvent, en cas de perte de l'original, faire foi quand elles sont anciennes.  Elles sont considérées comme anciennes quand elles ont plus de trente ans.  Si elles ont moins de trente ans, elles ne peuvent servir que de commencement de preuve par écrit ;  3° lorsque les\n",
      "--------------------------------------------------\n",
      "Sous-section 6. Remise de l'acte par le créancier au débiteur\n",
      "  Art. 8.27. Remise volontaire de l'acte par le créancier au débiteur  La remise volontaire au débiteur de l'acte sous signature privée ou de la grosse qui fait titre de la dette faitprésumer sa libération, sauf preuve contraire.\n",
      "  Section 2. La preuve par témoins\n",
      "--------------------------------------------------\n",
      "ladite loi, une copie est conservée dans la Banque des actes notariés.  Il en est de même également des copies qui ont été délivrées par un juge, en application des articles 1372 etsuivants du Code judiciaire, en présence des parties ou celles-ci étant dûment appelées, ou des copies qui ontété délivrées en présence des parties et de leur consentement réciproque ;  2° les copies qui, sans intervention d'un juge ou sans le consentement des parties, et depuis la délivrance desgrosses ou premières\n",
      "--------------------------------------------------\n",
      "du Code judiciaire.  Si la créance garantie n'est pas encore exigible, le créancier gagiste verse les montants perçus sur un comptebancaire distinct ouvert à cet effet, avec l'obligation de verser le solde au constituant du gage lorsque la créancegarantie a été exécutée.\n",
      "  Art. 68. Créance de livraison de biens  Si la créance gagée a pour objet la livraison de biens et si le créancier gagiste procède à son recouvrement, legage se reporte sur ces biens.\n",
      "  CHAPITRE 2. - Réserve de propriété\n",
      "--------------------------------------------------\n",
      "Art. 8.21. Engagement unilatéral de payer  Quelle que soit la valeur de l'acte juridique et sans préjudice des exceptions prévues par la loi, l'engagementunilatéral de payer une somme d'argent ou de livrer une certaine quantité de choses fongibles ne fait preuve quesi elle comporte la signature de celui qui souscrit cet engagement ainsi que la mention, écrite par lui-même, de lasomme ou de la quantité en toutes lettres. Est nulle toute convention dérogeant à cette règle.\n",
      "--------------------------------------------------\n",
      "droit de revendication en vertu d'une clause de réserve de propriété peut être exercé quelle que soit lanature du contrat dans lequel il est repris.  ----------  (1)<L 2016-12-25/12, art. 29, 002; En vigueur : 01-01-2018>\n"
     ]
    }
   ],
   "source": [
    "# Similarity_search: Returns the top documents based solely on vector similarity\n",
    "docs  = vector_store.similarity_search(query, k=10,)\n",
    "for doc in docs:\n",
    "    print(50*'-')\n",
    "    print(doc.page_content)"
   ]
  },
  {
   "cell_type": "code",
   "execution_count": 15,
   "id": "e3e592b4-14f6-4ec0-882a-882e209e3f3a",
   "metadata": {},
   "outputs": [
    {
     "name": "stdout",
     "output_type": "stream",
     "text": [
      "-------------------------------------------------- 0.8693486500000001\n",
      "Art. 8.37. Force probante  Le serment ne fait preuve qu'au profit de celui qui l'a déféré et de ses héritiers et ayants cause, ou contre eux.  Le serment déféré par l'un des créanciers solidaires au débiteur ne libère celui-ci que pour la part de cecréancier.  Le serment déféré au débiteur principal libère également les cautions.  Le serment déféré à l'un des débiteurs solidaires profite aux codébiteurs.  Le serment déféré à la caution profite au débiteur principal.  Dans ces deux derniers\n",
      "-------------------------------------------------- 0.86478035\n",
      "derniers cas, le serment du codébiteur solidaire ou de la caution ne profite aux autrescodébiteurs ou au débiteur principal que lorsqu'il a été déféré sur la dette principale, et non sur le fait de lasolidarité ou du cautionnement.\n",
      "-------------------------------------------------- 0.85686935\n",
      "Art. 69.Ecrit  Des biens meubles vendus avec une clause suspendant le transfert de propriété jusqu'au paiement intégral duprix peuvent être revendiqués lorsque l'acheteur reste en défaut de payer le prix d'achat, pour autant que cetteclause ait été établie par écrit au plus tard au moment de la délivrance des biens.  Si l'acheteur est un consommateur [1 au sens de l'article I.1, 2°, du livre Ier du Code de droit économique]1,l'accord de l'acheteur doit apparaître de l'écrit.  Le droit de\n",
      "-------------------------------------------------- 0.8473493999999999\n",
      "ne pourra servir que de commencement de preuve parécrit ; et il faudra même pour cela :  1° qu'il soit constant que toutes les minutes du notaire, de l'année dans laquelle l'acte parait avoir été fait, soientperdues, ou que l'on prouve que la perte de la minute de cet acte a été faite par un accident particulier ;  2° qu'il existe un répertoire régulièrement tenu du notaire, qui constate que l'acte a été fait à la même date.  Lorsque ces deux conditions sont remplies, la preuve du contenu de\n",
      "-------------------------------------------------- 0.8435872200000001\n",
      "premières expéditions, auront été délivrées sur la minute de l'acte par le notaire qui l'a reçu, ou parl'un de ses successeurs, ou par les officiers publics ou ministériels qui, en cette qualité, sont dépositaires desminutes, peuvent, en cas de perte de l'original, faire foi quand elles sont anciennes.  Elles sont considérées comme anciennes quand elles ont plus de trente ans.  Si elles ont moins de trente ans, elles ne peuvent servir que de commencement de preuve par écrit ;  3° lorsque les\n"
     ]
    }
   ],
   "source": [
    "# Similar to similarity_search, but also returns relevance scores\n",
    "docs  = await vector_store.asimilarity_search_with_relevance_scores(query,k=5)   #.similarity_search(query, k=10,)\n",
    "for doc in docs:\n",
    "    print(50*'-',doc[1])\n",
    "    print(doc[0].page_content)"
   ]
  },
  {
   "cell_type": "code",
   "execution_count": 16,
   "id": "9f9310b1-c856-40fc-8ce7-652f2a88a6d0",
   "metadata": {},
   "outputs": [
    {
     "name": "stdout",
     "output_type": "stream",
     "text": [
      "--------------------------------------------------\n",
      "Art. 8.37. Force probante  Le serment ne fait preuve qu'au profit de celui qui l'a déféré et de ses héritiers et ayants cause, ou contre eux.  Le serment déféré par l'un des créanciers solidaires au débiteur ne libère celui-ci que pour la part de cecréancier.  Le serment déféré au débiteur principal libère également les cautions.  Le serment déféré à l'un des débiteurs solidaires profite aux codébiteurs.  Le serment déféré à la caution profite au débiteur principal.  Dans ces deux derniers\n",
      "--------------------------------------------------\n",
      "derniers cas, le serment du codébiteur solidaire ou de la caution ne profite aux autrescodébiteurs ou au débiteur principal que lorsqu'il a été déféré sur la dette principale, et non sur le fait de lasolidarité ou du cautionnement.\n",
      "--------------------------------------------------\n",
      "Art. 69.Ecrit  Des biens meubles vendus avec une clause suspendant le transfert de propriété jusqu'au paiement intégral duprix peuvent être revendiqués lorsque l'acheteur reste en défaut de payer le prix d'achat, pour autant que cetteclause ait été établie par écrit au plus tard au moment de la délivrance des biens.  Si l'acheteur est un consommateur [1 au sens de l'article I.1, 2°, du livre Ier du Code de droit économique]1,l'accord de l'acheteur doit apparaître de l'écrit.  Le droit de\n",
      "--------------------------------------------------\n",
      "ne pourra servir que de commencement de preuve parécrit ; et il faudra même pour cela :  1° qu'il soit constant que toutes les minutes du notaire, de l'année dans laquelle l'acte parait avoir été fait, soientperdues, ou que l'on prouve que la perte de la minute de cet acte a été faite par un accident particulier ;  2° qu'il existe un répertoire régulièrement tenu du notaire, qui constate que l'acte a été fait à la même date.  Lorsque ces deux conditions sont remplies, la preuve du contenu de\n",
      "--------------------------------------------------\n",
      "premières expéditions, auront été délivrées sur la minute de l'acte par le notaire qui l'a reçu, ou parl'un de ses successeurs, ou par les officiers publics ou ministériels qui, en cette qualité, sont dépositaires desminutes, peuvent, en cas de perte de l'original, faire foi quand elles sont anciennes.  Elles sont considérées comme anciennes quand elles ont plus de trente ans.  Si elles ont moins de trente ans, elles ne peuvent servir que de commencement de preuve par écrit ;  3° lorsque les\n",
      "--------------------------------------------------\n",
      "Sous-section 6. Remise de l'acte par le créancier au débiteur\n",
      "  Art. 8.27. Remise volontaire de l'acte par le créancier au débiteur  La remise volontaire au débiteur de l'acte sous signature privée ou de la grosse qui fait titre de la dette faitprésumer sa libération, sauf preuve contraire.\n",
      "  Section 2. La preuve par témoins\n",
      "--------------------------------------------------\n",
      "ladite loi, une copie est conservée dans la Banque des actes notariés.  Il en est de même également des copies qui ont été délivrées par un juge, en application des articles 1372 etsuivants du Code judiciaire, en présence des parties ou celles-ci étant dûment appelées, ou des copies qui ontété délivrées en présence des parties et de leur consentement réciproque ;  2° les copies qui, sans intervention d'un juge ou sans le consentement des parties, et depuis la délivrance desgrosses ou premières\n"
     ]
    }
   ],
   "source": [
    "# The LangChain way, using Retriever\n",
    "retriever = vector_store.as_retriever()\n",
    "query = \"Les défauts de payement\"\n",
    "retrieved_docs = retriever.invoke(query,k=7)\n",
    "\n",
    "# Afficher les résultats\n",
    "for doc in retrieved_docs:\n",
    "    print(50*'-')\n",
    "    print(doc.page_content)"
   ]
  },
  {
   "cell_type": "code",
   "execution_count": null,
   "id": "ef0a883b-d74d-4700-a243-dba4c98333d7",
   "metadata": {},
   "outputs": [],
   "source": []
  }
 ],
 "metadata": {
  "kernelspec": {
   "display_name": "Python 3",
   "language": "python",
   "name": "python3"
  },
  "language_info": {
   "codemirror_mode": {
    "name": "ipython",
    "version": 3
   },
   "file_extension": ".py",
   "mimetype": "text/x-python",
   "name": "python",
   "nbconvert_exporter": "python",
   "pygments_lexer": "ipython3",
   "version": "3.12.8"
  }
 },
 "nbformat": 4,
 "nbformat_minor": 5
}
