{
 "cells": [
  {
   "cell_type": "markdown",
   "id": "beebdbee",
   "metadata": {},
   "source": [
    "# 3. Classification\n",
    "\n",
    "This notebook is a step-by-step guide to classifying text based on its content. Here's a simplified explanation of what it does:\n",
    "\n",
    "1) **Import Libraries**: It starts by importing necessary libraries for handling text and using a language model.\n",
    "2) **Define a Classification Model**: It defines a structure (class) called Classification that specifies what information to extract from the text, such as sentiment, aggressiveness, and language.\n",
    "3) **Set Up the Language Model**: It sets up a language model (ChatOllama) to process the text and extract the required information.\n",
    "4) **Create a Prompt Template**: It creates a template for the prompt that will be used to instruct the language model on what to do.\n",
    "5) **Classify Text**: It uses the language model to classify the text based on the defined structure, extracting information like sentiment and aggressiveness.\n",
    "6) **Print Results**: Finally, it prints the results of the classification, showing the extracted information.\n",
    "\n",
    "Overall, the notebook demonstrates how to use a language model to analyze and classify text based on specific criteria."
   ]
  },
  {
   "cell_type": "code",
   "execution_count": 1,
   "id": "693b5ae9-9181-4055-9bcb-b207403caf15",
   "metadata": {},
   "outputs": [],
   "source": [
    "# https://python.langchain.com/docs/tutorials/classification/\n",
    "import os\n",
    "import langchain\n",
    "from langchain_ollama import ChatOllama\n",
    "from langchain_core.messages import HumanMessage, SystemMessage\n",
    "from langchain_core.prompts import ChatPromptTemplate\n",
    "from pydantic import BaseModel, Field"
   ]
  },
  {
   "cell_type": "code",
   "execution_count": 2,
   "id": "1456b6da-3521-4b47-b392-4b2ffcb11221",
   "metadata": {},
   "outputs": [],
   "source": [
    "tagging_prompt = ChatPromptTemplate.from_template(\n",
    "    \"\"\"\n",
    "Extract the desired information from the following passage.\n",
    "\n",
    "Only extract the properties mentioned in the 'Classification' class.\n",
    "\n",
    "Ensure all fields in the 'Classification' class are provided. For numerical fields, return a valid integer.\n",
    "\n",
    "Passage:\n",
    "{input}\n",
    "\"\"\"\n",
    ")"
   ]
  },
  {
   "cell_type": "code",
   "execution_count": 3,
   "id": "e050d326-b721-4466-ac67-8175387b4ef4",
   "metadata": {},
   "outputs": [],
   "source": [
    "class Classification(BaseModel):\n",
    "    sentiment: str      = Field(description=\"The sentiment of the text\")\n",
    "    aggressiveness: int = Field(default=1,description=\"How aggressive the text is on a scale from 1 to 10\")\n",
    "    language: str       = Field(description=\"The language the text is written in\")\n",
    "\n",
    "# LLM\n",
    "llm = ChatOllama(\n",
    "    base_url    = os.getenv(\"OLLAMA_SERVER\"),\n",
    "    model       = \"llama3.2:latest\",\n",
    "    temperature = 0.8\n",
    ").with_structured_output(Classification)"
   ]
  },
  {
   "cell_type": "code",
   "execution_count": 4,
   "id": "4cc5abe2-8647-4e36-af0f-9c48c0c7e674",
   "metadata": {},
   "outputs": [
    {
     "name": "stdout",
     "output_type": "stream",
     "text": [
      "sentiment='Neutral' aggressiveness=4 language='French'\n"
     ]
    }
   ],
   "source": [
    "#inp = \"Je suis incroyablement heureux de vous avoir rencontré ! Je pense que nous serons de très bons amis !\"\n",
    "#inp = \"T'es vraiment un gros con!... Je veux plus voir ta gueule,\"\n",
    "inp = \"Je suis pas très satisfait, mais ça ira comme ça.\"\n",
    "prompt = tagging_prompt.invoke({\"input\": inp})\n",
    "response = llm.invoke(prompt)\n",
    "print(response)"
   ]
  }
 ],
 "metadata": {
  "kernelspec": {
   "display_name": "Python 3",
   "language": "python",
   "name": "python3"
  },
  "language_info": {
   "codemirror_mode": {
    "name": "ipython",
    "version": 3
   },
   "file_extension": ".py",
   "mimetype": "text/x-python",
   "name": "python",
   "nbconvert_exporter": "python",
   "pygments_lexer": "ipython3",
   "version": "3.12.8"
  }
 },
 "nbformat": 4,
 "nbformat_minor": 5
}
