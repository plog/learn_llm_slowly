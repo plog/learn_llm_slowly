{
 "cells": [
  {
   "cell_type": "code",
   "execution_count": 72,
   "id": "693b5ae9-9181-4055-9bcb-b207403caf15",
   "metadata": {},
   "outputs": [],
   "source": [
    "# https://python.langchain.com/docs/tutorials/classification/\n",
    "import os\n",
    "import langchain\n",
    "from langchain_ollama import ChatOllama\n",
    "from langchain_core.messages import HumanMessage, SystemMessage\n",
    "from langchain_core.prompts import ChatPromptTemplate\n",
    "from pydantic import BaseModel, Field"
   ]
  },
  {
   "cell_type": "code",
   "execution_count": 73,
   "id": "1456b6da-3521-4b47-b392-4b2ffcb11221",
   "metadata": {},
   "outputs": [],
   "source": [
    "tagging_prompt = ChatPromptTemplate.from_template(\n",
    "    \"\"\"\n",
    "Extract the desired information from the following passage.\n",
    "\n",
    "Only extract the properties mentioned in the 'Classification' class.\n",
    "\n",
    "Ensure all fields in the 'Classification' class are provided. For numerical fields, return a valid integer.\n",
    "\n",
    "Passage:\n",
    "{input}\n",
    "\"\"\"\n",
    ")"
   ]
  },
  {
   "cell_type": "code",
   "execution_count": 74,
   "id": "e050d326-b721-4466-ac67-8175387b4ef4",
   "metadata": {},
   "outputs": [],
   "source": [
    "class Classification(BaseModel):\n",
    "    sentiment: str      = Field(description=\"The sentiment of the text\")\n",
    "    aggressiveness: int = Field(default=1,description=\"How aggressive the text is on a scale from 1 to 10\")\n",
    "    language: str       = Field(description=\"The language the text is written in\")\n",
    "\n",
    "# LLM\n",
    "llm = ChatOllama(\n",
    "    base_url    = os.getenv(\"OLLAMA_SERVER\"),\n",
    "    model       = \"llama3.2:latest\",\n",
    "    temperature = 0.8\n",
    ").with_structured_output(Classification)"
   ]
  },
  {
   "cell_type": "code",
   "execution_count": 76,
   "id": "4cc5abe2-8647-4e36-af0f-9c48c0c7e674",
   "metadata": {},
   "outputs": [
    {
     "name": "stdout",
     "output_type": "stream",
     "text": [
      "sentiment='neutral' aggressiveness=4 language='French'\n"
     ]
    }
   ],
   "source": [
    "#inp = \"Je suis incroyablement heureux de vous avoir rencontré ! Je pense que nous serons de très bons amis !\"\n",
    "#inp = \"T'es vraiment un gros con!... Je veux plus voir ta gueule,\"\n",
    "inp = \"Je suis pas très satisfait, mais ça ira comme ça.\"\n",
    "prompt = tagging_prompt.invoke({\"input\": inp})\n",
    "response = llm.invoke(prompt)\n",
    "print(response)"
   ]
  },
  {
   "cell_type": "code",
   "execution_count": null,
   "id": "58c22411-a7ad-4538-ac05-45a7fa61fad9",
   "metadata": {},
   "outputs": [],
   "source": []
  },
  {
   "cell_type": "code",
   "execution_count": null,
   "id": "f0f3f44b-57f5-4e9d-bdba-e9fe82b134fe",
   "metadata": {},
   "outputs": [],
   "source": []
  }
 ],
 "metadata": {
  "kernelspec": {
   "display_name": "Python 3 (ipykernel)",
   "language": "python",
   "name": "python3"
  },
  "language_info": {
   "codemirror_mode": {
    "name": "ipython",
    "version": 3
   },
   "file_extension": ".py",
   "mimetype": "text/x-python",
   "name": "python",
   "nbconvert_exporter": "python",
   "pygments_lexer": "ipython3",
   "version": "3.12.8"
  }
 },
 "nbformat": 4,
 "nbformat_minor": 5
}
