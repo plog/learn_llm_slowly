{
 "cells": [
  {
   "cell_type": "markdown",
   "metadata": {},
   "source": [
    "# 10. Reasoning\n",
    "\n",
    "A reasoning framework in LangChain refers to the logical approach or methodology an agent uses to :\n",
    "\n",
    "1) Analyze a user’s input, \n",
    "2) Plan its actions, \n",
    "3) And decide how to solve the task by selecting and using tools or models. \n",
    "\n",
    "It defines how the agent **“thinks”**, **reasons** about the problem, and executes steps to reach the final output.\n",
    "\n",
    "Example is “React” (Reason + Act) Framework. The React framework is a common reasoning framework in LangChain. Here’s how it works:\n",
    "1.\t**Reason**: The agent thinks about the task and decides what to do next.\n",
    "2.\t**Act**: The agent executes the chosen action (e.g., calling a tool or querying a model).\n",
    "3.\t**Repeat**: The agent evaluates the result and decides the next step, iterating as needed.\n",
    "\n",
    "LangChain provides several agent types:\n",
    "\n",
    "- **zero-shot-react-description**: General-purpose, dynamically selects tools based on input reasoning.\n",
    "- **conversational-react-description**: Context-aware for maintaining conversational history.\n",
    "- **self-ask-with-search**: Breaks queries into sub-questions for iterative reasoning and retrieval.\n",
    "- **plan-and-execute**: Separates planning and execution into distinct phases for structured workflows.\n",
    "- **openai-functions**: Leverages OpenAI’s function-calling capabilities for dynamic tool invocation.\n",
    "- **react-chain**: Implements step-by-step reasoning and action workflows but can be limited in complex scenarios.\n",
    "- **reflection/reflextion**: Evaluates and iterates on outputs, improving results over multiple attempts through self-reflection.\n",
    "- **rew00**: Modular agent focusing on reasoning, execution, observation, and optimization to refine outcomes dynamically.\n",
    "- **toolkit**: Works with predefined toolsets for tightly integrated and specialized tasks.\n",
    "- **custom agents**: Fully customizable agents tailored to unique domain-specific needs.\n"
   ]
  },
  {
   "cell_type": "code",
   "execution_count": null,
   "metadata": {},
   "outputs": [
    {
     "name": "stderr",
     "output_type": "stream",
     "text": [
      "/tmp/ipykernel_812376/3691470614.py:24: LangChainDeprecationWarning: LangChain agents will continue to be supported, but it is recommended for new use cases to be built with LangGraph. LangGraph offers a more flexible and full-featured framework for building agents, including support for tool-calling, persistence of state, and human-in-the-loop workflows. For details, refer to the `LangGraph documentation <https://langchain-ai.github.io/langgraph/>`_ as well as guides for `Migrating from AgentExecutor <https://python.langchain.com/docs/how_to/migrate_agent/>`_ and LangGraph's `Pre-built ReAct agent <https://langchain-ai.github.io/langgraph/how-tos/create-react-agent/>`_.\n",
      "  agent = initialize_agent(tools=tools, llm=llm, agent=\"zero-shot-react-description\")\n"
     ]
    },
    {
     "name": "stdout",
     "output_type": "stream",
     "text": [
      "Executing translate_tool\n",
      "{'input': \"Translate 'Hello' into French.\", 'output': 'Bonjour'}\n",
      "Executing calculator_tool\n",
      "Executing calculator_tool\n",
      "{'input': 'What is 2 + 2?', 'output': 'The final answer is 4.'}\n"
     ]
    }
   ],
   "source": [
    "from tools import llm # containing my ChatOllama\n",
    "from langchain.agents import initialize_agent, Tool\n",
    "from langchain.llms import OpenAI\n",
    "\n",
    "# Define tools\n",
    "def translate_tool(text):\n",
    "    print(\"Executing translate_tool\")\n",
    "    return \"Bonjour\" if \"Hello\" in text else \"Unknown\"\n",
    "\n",
    "def calculator_tool(expression):\n",
    "    print(\"Executing calculator_tool\")\n",
    "    try:\n",
    "        return str(eval(expression))\n",
    "    except Exception:\n",
    "        return \"Error\"\n",
    "\n",
    "# Initialize tools\n",
    "tools = [\n",
    "    Tool(name=\"Translator\", func=translate_tool, description=\"Translate English to French.\"),\n",
    "    Tool(name=\"Calculator\", func=calculator_tool, description=\"Perform math calculations.\")\n",
    "]\n",
    "\n",
    "# Initialize agent\n",
    "# You should have a warning suggesting you to use LangGraph ;)\n",
    "# LangGraph \"offers\"... a more flexible bla bla bla... Mmmm...\n",
    "agent = initialize_agent(tools=tools, llm=llm, agent=\"zero-shot-react-description\")\n",
    "\n",
    "# Test the agent with invoke\n",
    "print(agent.invoke(\"Translate 'Hello' into French.\"))\n",
    "print(agent.invoke(\"What is 2 + 2?\"))"
   ]
  }
 ],
 "metadata": {
  "kernelspec": {
   "display_name": "Python 3",
   "language": "python",
   "name": "python3"
  },
  "language_info": {
   "codemirror_mode": {
    "name": "ipython",
    "version": 3
   },
   "file_extension": ".py",
   "mimetype": "text/x-python",
   "name": "python",
   "nbconvert_exporter": "python",
   "pygments_lexer": "ipython3",
   "version": "3.12.8"
  }
 },
 "nbformat": 4,
 "nbformat_minor": 2
}
