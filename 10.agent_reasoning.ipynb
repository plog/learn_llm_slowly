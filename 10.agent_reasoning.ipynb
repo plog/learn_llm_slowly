{
 "cells": [
  {
   "cell_type": "markdown",
   "metadata": {},
   "source": [
    "# 10. Reasoning\n",
    "\n",
    "A reasoning framework in LangChain refers to the logical approach or methodology an agent uses to :\n",
    "\n",
    "1) Analyze a user’s input, \n",
    "2) Plan its actions, \n",
    "3) And decide how to solve the task by selecting and using tools or models. \n",
    "\n",
    "It defines how the agent **“thinks”**, **reasons** about the problem, and executes steps to reach the final output.\n",
    "\n",
    "And are super tricky with Ollama... 😭\n",
    "\n",
    "Example is “React” (Reason + Act) Framework. The React framework is a common reasoning framework in LangChain. Here’s how it works:\n",
    "1.\t**Reason**: The agent thinks about the task and decides what to do next.\n",
    "2.\t**Act**: The agent executes the chosen action (e.g., calling a tool or querying a model).\n",
    "3.\t**Repeat**: The agent evaluates the result and decides the next step, iterating as needed.\n",
    "\n",
    "LangChain provides several agent types:\n",
    "\n",
    "- **zero-shot-react-description**: General-purpose, dynamically selects tools based on input reasoning.\n",
    "- **conversational-react-description**: Context-aware for maintaining conversational history.\n",
    "- **self-ask-with-search**: Breaks queries into sub-questions for iterative reasoning and retrieval.\n",
    "- **plan-and-execute**: Separates planning and execution into distinct phases for structured workflows.\n",
    "- **openai-functions**: Leverages OpenAI’s function-calling capabilities for dynamic tool invocation.\n",
    "- **react-chain**: Implements step-by-step reasoning and action workflows but can be limited in complex scenarios.\n",
    "- **reflection/reflextion**: Evaluates and iterates on outputs, improving results over multiple attempts through self-reflection.\n",
    "- **rew00**: Modular agent focusing on reasoning, execution, observation, and optimization to refine outcomes dynamically.\n",
    "- **toolkit**: Works with predefined toolsets for tightly integrated and specialized tasks.\n",
    "- **custom agents**: Fully customizable agents tailored to unique domain-specific needs.\n",
    "\n",
    "## The \"natives\" ones:\n",
    "\n",
    "<img src=\"./docs/agents.png\" width=\"400\">\n",
    "\n",
    "You can find tons of \"agents\"on [LangChain Hub](https://smith.langchain.com/hub/)... Good luck with that! 😅\n"
   ]
  },
  {
   "cell_type": "code",
   "execution_count": 40,
   "metadata": {},
   "outputs": [],
   "source": [
    "# Taken from https://medium.com/@prabhakaran_arivalagan/behind-the-scene-react-agents-in-langchain-4f7f48c2476d"
   ]
  },
  {
   "cell_type": "code",
   "execution_count": 1,
   "metadata": {},
   "outputs": [],
   "source": [
    "\n",
    "from tools import groq # containing my ChatOllama\n",
    "from colorama import Fore, Style\n",
    "from langchain import hub\n",
    "from langchain.agents import AgentExecutor, create_react_agent\n",
    "from langchain_core.tools import tool\n",
    "\n",
    "# Enable debug logging\n",
    "# import logging\n",
    "# logging.basicConfig(level=logging.DEBUG)"
   ]
  },
  {
   "cell_type": "code",
   "execution_count": 2,
   "metadata": {},
   "outputs": [
    {
     "name": "stdout",
     "output_type": "stream",
     "text": [
      "\n",
      "\n",
      "\u001b[1m> Entering new AgentExecutor chain...\u001b[0m\n",
      "\u001b[32;1m\u001b[1;3mTo answer this question, I need to get the salary of Evan. To do this, I first need to get Evan's employee id. Then, I can use the employee id to get the salary.\n",
      "Action: get_employee_id\n",
      "Action Input: Evan\u001b[0m\u001b[33;1m\u001b[1;3mE005\u001b[0m\u001b[32;1m\u001b[1;3mNow that I have Evan's employee id (E005), I can use it to get Evan's salary.\n",
      "\n",
      "Action: get_employee_salary\n",
      "Action Input: E005\u001b[0m\u001b[36;1m\u001b[1;3m45000\u001b[0m\u001b[32;1m\u001b[1;3mI now know the final answer.\n",
      "Final Answer: The salary of Evan is 45000.\u001b[0m\n",
      "\n",
      "\u001b[1m> Finished chain.\u001b[0m\n"
     ]
    },
    {
     "data": {
      "text/plain": [
       "{'input': 'What is the Salary of Evan?',\n",
       " 'output': 'The salary of Evan is 45000.'}"
      ]
     },
     "execution_count": 2,
     "metadata": {},
     "output_type": "execute_result"
    }
   ],
   "source": [
    "# Custom tool for the Agent \n",
    "@tool\n",
    "def get_employee_id(name):\n",
    "  \"\"\"\n",
    "  To get employee id, it takes employee name as arguments\n",
    "  name(str): Name of the employee\n",
    "  \"\"\"\n",
    "  fake_employees = {\n",
    "    \"Alice\": \"E001\",\n",
    "    \"Bob\": \"E002\",\n",
    "    \"Charlie\": \"E003\",\n",
    "    \"Diana\": \"E004\",\n",
    "    \"Evan\": \"E005\",\n",
    "    \"Fiona\": \"E006\",\n",
    "    \"George\": \"E007\",\n",
    "    \"Hannah\": \"E008\",\n",
    "    \"Ian\": \"E009\",\n",
    "    \"Jasmine\": \"E010\"}\n",
    "  \n",
    "  return fake_employees.get(name,\"Employee not found\")\n",
    "\n",
    "# Custom tool for the Agent \n",
    "@tool\n",
    "def get_employee_salary(employee_id):\n",
    "  \"\"\"\n",
    "  To get the salary of an employee, it takes employee_id as input and return salary\n",
    "  \"\"\"\n",
    "  employee_salaries = {\n",
    "    \"E001\": 56000,\n",
    "    \"E002\": 47000,\n",
    "    \"E003\": 52000,\n",
    "    \"E004\": 61000,\n",
    "    \"E005\": 45000,\n",
    "    \"E006\": 58000,\n",
    "    \"E007\": 49000,\n",
    "    \"E008\": 53000,\n",
    "    \"E009\": 50000,\n",
    "    \"E010\": 55000\n",
    "    }\n",
    "  return employee_salaries.get(employee_id,\"Employee not found\")\n",
    "\n",
    "# Saved React Prompt in langchain hub, we could manually type the prompt as well.\n",
    "prompt = hub.pull(\"hwchase17/react\")\n",
    "\n",
    "tools = [get_employee_salary, get_employee_id]\n",
    "agent = create_react_agent(groq,tools, prompt)\n",
    "agent_executor = AgentExecutor(agent=agent,tools=tools,verbose=True)\n",
    "agent_executor.invoke({\"input\":\"What is the Salary of Evan?\"})"
   ]
  },
  {
   "cell_type": "markdown",
   "metadata": {},
   "source": []
  }
 ],
 "metadata": {
  "kernelspec": {
   "display_name": "Python 3",
   "language": "python",
   "name": "python3"
  },
  "language_info": {
   "codemirror_mode": {
    "name": "ipython",
    "version": 3
   },
   "file_extension": ".py",
   "mimetype": "text/x-python",
   "name": "python",
   "nbconvert_exporter": "python",
   "pygments_lexer": "ipython3",
   "version": "3.12.8"
  }
 },
 "nbformat": 4,
 "nbformat_minor": 2
}
