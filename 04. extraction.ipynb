{
 "cells": [
  {
   "cell_type": "code",
   "execution_count": 56,
   "id": "df2b28cc-6822-4963-a956-38b9a5518e93",
   "metadata": {},
   "outputs": [],
   "source": [
    "# https://python.langchain.com/docs/tutorials/extraction/\n",
    "# Tools: https://python.langchain.com/docs/concepts/tool_calling/\n",
    "# https://platform.openai.com/docs/guides/function-calling"
   ]
  },
  {
   "cell_type": "code",
   "execution_count": 77,
   "id": "f197377e-95c1-44a2-b0bb-b564e0abb441",
   "metadata": {},
   "outputs": [],
   "source": [
    "from typing import Optional\n",
    "from pydantic import BaseModel, Field, field_validator\n",
    "from langchain_core.prompts import ChatPromptTemplate, MessagesPlaceholder\n",
    "from langchain_ollama import ChatOllama\n",
    "import os"
   ]
  },
  {
   "cell_type": "code",
   "execution_count": 78,
   "id": "51808984-6601-483f-96b0-387a5d88897c",
   "metadata": {},
   "outputs": [],
   "source": [
    "class Person(BaseModel):\n",
    "    \"\"\"Information about a person.\"\"\"\n",
    "    name: Optional[str]             = Field(default=None, description=\"The name of the person\")\n",
    "    hair_color: Optional[str]       = Field(default=None, description=\"The color of the person's hair if known\")\n",
    "    height_in_meters: Optional[str] = Field(default=None, description=\"Height measured in meters\")\n",
    "    \n",
    "    @field_validator(\"height_in_meters\", mode=\"before\")\n",
    "    def convert_height_to_string(cls, value):\n",
    "        if isinstance(value, (float, int)):\n",
    "            return str(value)\n",
    "        return value    "
   ]
  },
  {
   "cell_type": "code",
   "execution_count": 79,
   "id": "7b1c44b2-70ce-46e0-997d-ed55ccbe38db",
   "metadata": {},
   "outputs": [],
   "source": [
    "prompt_template = ChatPromptTemplate.from_messages([\n",
    "    (\"system\", \"\"\"\n",
    "        You are an expert extraction algorithm.\n",
    "        Extract the following fields about a person from the given passage.\n",
    "\n",
    "        Ensure the following:\n",
    "        - `name` must always be a string.\n",
    "        - `hair_color` must always be a string.\n",
    "        - `height_in_meters` must always be a string, even if it represents a numerical value.\n",
    "\n",
    "        Return all fields in the correct format based on the schema.\n",
    "\n",
    "        Passage:\n",
    "        {text}\n",
    "    \"\"\"),\n",
    "    (\"human\", \"\")\n",
    "])"
   ]
  },
  {
   "cell_type": "code",
   "execution_count": 80,
   "id": "bd3d2eff-ef05-4074-9ecb-a4614f784ac4",
   "metadata": {},
   "outputs": [],
   "source": [
    "llm = ChatOllama(base_url=os.getenv(\"OLLAMA_SERVER\"),model = \"llama3.2:latest\",temperature = 0.8,num_predict = 256,)"
   ]
  },
  {
   "cell_type": "code",
   "execution_count": 81,
   "id": "d7ef8bfb-6271-42bf-a787-2a15fe646ca6",
   "metadata": {},
   "outputs": [],
   "source": [
    "structured_llm = llm.with_structured_output(schema=Person)"
   ]
  },
  {
   "cell_type": "code",
   "execution_count": 82,
   "id": "b67a480a-becb-4719-b05b-edbb0cff0972",
   "metadata": {},
   "outputs": [
    {
     "name": "stdout",
     "output_type": "stream",
     "text": [
      "name='Alan Smith' hair_color='red' height_in_meters='10 feet'\n"
     ]
    }
   ],
   "source": [
    "text   = \"Alan Smith is 10 feet tall and has red hair.\"\n",
    "prompt = prompt_template.invoke({\"text\": text})\n",
    "response = structured_llm.invoke(prompt)\n",
    "print(response)"
   ]
  },
  {
   "cell_type": "code",
   "execution_count": null,
   "id": "f238a5cc-ed7b-47af-bea9-51ca4380e688",
   "metadata": {},
   "outputs": [],
   "source": []
  }
 ],
 "metadata": {
  "kernelspec": {
   "display_name": "Python 3 (ipykernel)",
   "language": "python",
   "name": "python3"
  },
  "language_info": {
   "codemirror_mode": {
    "name": "ipython",
    "version": 3
   },
   "file_extension": ".py",
   "mimetype": "text/x-python",
   "name": "python",
   "nbconvert_exporter": "python",
   "pygments_lexer": "ipython3",
   "version": "3.12.8"
  }
 },
 "nbformat": 4,
 "nbformat_minor": 5
}
