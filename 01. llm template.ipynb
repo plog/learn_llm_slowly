{
 "cells": [
  {
   "cell_type": "code",
   "execution_count": 1,
   "id": "2de674c4-d55f-43ee-9ae4-dcbfb15a3482",
   "metadata": {},
   "outputs": [],
   "source": [
    "# https://python.langchain.com/docs/tutorials/llm_chain/\n",
    "import os\n",
    "import langchain\n",
    "from langchain_ollama import ChatOllama\n",
    "from langchain_core.messages import HumanMessage, SystemMessage\n",
    "from langchain_core.prompts import ChatPromptTemplate"
   ]
  },
  {
   "cell_type": "code",
   "execution_count": 2,
   "id": "e31bb91f-0dcf-4f6f-92a9-a1f6c19c3e75",
   "metadata": {},
   "outputs": [
    {
     "name": "stdout",
     "output_type": "stream",
     "text": [
      "0.3.14\n"
     ]
    }
   ],
   "source": [
    "print(langchain.__version__)"
   ]
  },
  {
   "cell_type": "code",
   "execution_count": 3,
   "id": "f4f2d11f-b3e2-466f-8b7d-846164b78c90",
   "metadata": {},
   "outputs": [],
   "source": [
    "llm = ChatOllama(base_url=os.getenv(\"OLLAMA_SERVER\"),model = \"llama3.2:latest\",temperature = 0.8,num_predict = 256,)\n"
   ]
  },
  {
   "cell_type": "code",
   "execution_count": 4,
   "id": "5a7545c2-280e-48fd-b341-3b7d6c756248",
   "metadata": {},
   "outputs": [],
   "source": [
    "system_template = \"Always answer in {language}\"\n",
    "prompt_template = ChatPromptTemplate.from_messages(\n",
    "    [(\"system\", system_template), (\"user\", \"{text}\")]\n",
    ")"
   ]
  },
  {
   "cell_type": "code",
   "execution_count": 5,
   "id": "832e33ff-096b-4dd4-a7ed-236bf375d353",
   "metadata": {},
   "outputs": [],
   "source": [
    "prompt = prompt_template.invoke({\"language\": \"French\", \"text\": \"C'est où la Belgique?\"})"
   ]
  },
  {
   "cell_type": "code",
   "execution_count": 6,
   "id": "51e2d309-b541-45ea-b85b-aa3045b984fd",
   "metadata": {},
   "outputs": [
    {
     "data": {
      "text/plain": [
       "[SystemMessage(content='Always answer in French', additional_kwargs={}, response_metadata={}),\n",
       " HumanMessage(content=\"C'est où la Belgique?\", additional_kwargs={}, response_metadata={})]"
      ]
     },
     "execution_count": 6,
     "metadata": {},
     "output_type": "execute_result"
    }
   ],
   "source": [
    "prompt.to_messages()"
   ]
  },
  {
   "cell_type": "code",
   "execution_count": 7,
   "id": "0a544961-1131-4ea3-9ff0-7e66f22601ba",
   "metadata": {},
   "outputs": [],
   "source": [
    "response = llm.invoke(prompt)"
   ]
  },
  {
   "cell_type": "code",
   "execution_count": 8,
   "id": "feb6b0f4-e0b7-4601-88bf-221101c53645",
   "metadata": {},
   "outputs": [
    {
     "name": "stdout",
     "output_type": "stream",
     "text": [
      "La Belgique est un petit pays situé en Europe de l'Ouest, bordé par les Pays-Bas au nord, le Luxembourg à l'est, l'Allemagne et la France à l'ouest. Il se situe également face à l'Angleterre et l'Irlande du Nord via les Îles Anglo-Normandes, plus précisément sur la mer du Nord, à l'extrême nord-est de la Bretagne française.\n",
      "\n",
      "Geographiquement, le territoire belge est divisé en trois régions :\n",
      "\n",
      "*   La Wallonie (en partage avec les Pays-Bas) et la Flandre (deux régions très distinctes)\n",
      "*   Le Grand-Duché de Luxembourg\n",
      "*   L'extrême-est du pays, proche de l'Allemagne\n"
     ]
    }
   ],
   "source": [
    "print(response.content)"
   ]
  },
  {
   "cell_type": "code",
   "execution_count": null,
   "id": "0d42fae9-80e2-476e-adc9-b861493c31b2",
   "metadata": {},
   "outputs": [],
   "source": []
  }
 ],
 "metadata": {
  "kernelspec": {
   "display_name": "Python 3 (ipykernel)",
   "language": "python",
   "name": "python3"
  },
  "language_info": {
   "codemirror_mode": {
    "name": "ipython",
    "version": 3
   },
   "file_extension": ".py",
   "mimetype": "text/x-python",
   "name": "python",
   "nbconvert_exporter": "python",
   "pygments_lexer": "ipython3",
   "version": "3.12.8"
  }
 },
 "nbformat": 4,
 "nbformat_minor": 5
}
